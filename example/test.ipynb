{
 "cells": [
  {
   "cell_type": "markdown",
   "metadata": {},
   "source": [
    "# Scotogenic Model\n",
    "\n",
    "We will compute $\\mathrm{BR}(\\mu\\to e\\gamma)$ in the scotogenic model ([arXiv:hep-ph/0601225](http://arxiv.org/abs/hep-ph/0601225), [arXiv:2004.05172 [hep-ph]](http://arxiv.org/abs/2004.05172))"
   ]
  },
  {
   "cell_type": "markdown",
   "metadata": {},
   "source": [
    "## Determining the SM Lagrangian parametrs in the SM\n",
    "\n",
    "As a first approximation, we will neglect the effect of the SMEFT coefficients in the determination of $g$, $g'$, $g_s$, $\\lambda$, $y_u$, $y_d$, $y_\\ell$. These parameters are obtained by `sminputs` using `wilson`."
   ]
  },
  {
   "cell_type": "code",
   "execution_count": 1,
   "metadata": {},
   "outputs": [],
   "source": [
    "import numpy as np\n",
    "import sminputs\n",
    "import scotogenic\n",
    "from wilson import Wilson\n",
    "import flavio\n",
    "\n",
    "import matplotlib.pyplot as plt\n",
    "plt.rcParams.update({'pgf.texsystem':'pdflatex'})"
   ]
  },
  {
   "cell_type": "markdown",
   "metadata": {},
   "source": [
    "... but there is a small problem. We have calculated the parameters at $\\Lambda_\\mathrm{NP}=1\\,\\mathrm{TeV}$, but we need them at $\\Lambda_\\mathrm{NP}=10\\,\\mathrm{TeV}$!\n",
    "\n",
    "To set the $\\Lambda_\\mathrm{NP}$ for the calculation of the SM parameters, you can either:\n",
    "* Change manually the variable `HIGHSCALE` in the file `sminputs.py`, or\n",
    "* Run the following code:"
   ]
  },
  {
   "cell_type": "code",
   "execution_count": 2,
   "metadata": {},
   "outputs": [],
   "source": [
    "sminputs.HIGHSCALE = 10000 #New physics scale.\n",
    "sminputs.calculate()\n",
    "scotogenic.reloadsminputs()"
   ]
  },
  {
   "cell_type": "markdown",
   "metadata": {},
   "source": [
    "We define the parameters of the scotogenic model,"
   ]
  },
  {
   "cell_type": "code",
   "execution_count": 3,
   "metadata": {},
   "outputs": [],
   "source": [
    "mueta = 10500\n",
    "MN1 = 10000\n",
    "MN2 = 10100\n",
    "MN3 = 10200\n",
    "\n",
    "lam2 = 0.1\n",
    "lam3 = 0.1\n",
    "lam4 = 0.1\n",
    "lam5 = 1e-7\n",
    "\n",
    "yN1 = np.array([0.1, -0.5, 0.2])\n",
    "yN2 = np.array([-0.06, 0.2, 0.1])\n",
    "yN3 = np.array([-0.6, 0.8, 0.02])"
   ]
  },
  {
   "cell_type": "markdown",
   "metadata": {},
   "source": [
    "obtain the Wilson coefficients,"
   ]
  },
  {
   "cell_type": "code",
   "execution_count": 4,
   "metadata": {},
   "outputs": [
    {
     "data": {
      "text/html": [
       "<h3>Wilson coefficients</h3>\n",
       "\n",
       "<table>\n",
       "  <thead>\n",
       "    <tr>\n",
       "      <th>EFT</th>\n",
       "      <th>Basis</th>\n",
       "      <th>scale</th>\n",
       "    </tr>\n",
       "  </thead>\n",
       "  <tbody>\n",
       "    <tr>\n",
       "      <td><code>SMEFT</code></td>\n",
       "      <td><code>Warsaw</code></td>\n",
       "      <td>10000.0 GeV</td>\n",
       "    </tr>\n",
       "  </tbody>\n",
       "</table>\n",
       "<h4>Values</h4>\n",
       "\n",
       "<div>\n",
       "<style scoped>\n",
       "    .dataframe tbody tr th:only-of-type {\n",
       "        vertical-align: middle;\n",
       "    }\n",
       "\n",
       "    .dataframe tbody tr th {\n",
       "        vertical-align: top;\n",
       "    }\n",
       "\n",
       "    .dataframe thead th {\n",
       "        text-align: right;\n",
       "    }\n",
       "</style>\n",
       "<table border=\"1\" class=\"dataframe\">\n",
       "  <thead>\n",
       "    <tr style=\"text-align: right;\">\n",
       "      <th></th>\n",
       "      <th>Re</th>\n",
       "      <th>Im</th>\n",
       "    </tr>\n",
       "  </thead>\n",
       "  <tbody>\n",
       "    <tr>\n",
       "      <th>W</th>\n",
       "      <td>4.411072e-14</td>\n",
       "      <td>0.0</td>\n",
       "    </tr>\n",
       "    <tr>\n",
       "      <th>phiW</th>\n",
       "      <td>1.523509e-13</td>\n",
       "      <td>0.0</td>\n",
       "    </tr>\n",
       "    <tr>\n",
       "      <th>phiB</th>\n",
       "      <td>4.589704e-14</td>\n",
       "      <td>0.0</td>\n",
       "    </tr>\n",
       "    <tr>\n",
       "      <th>phiWB</th>\n",
       "      <td>5.574727e-14</td>\n",
       "      <td>0.0</td>\n",
       "    </tr>\n",
       "    <tr>\n",
       "      <th>phiBox</th>\n",
       "      <td>-2.580730e-13</td>\n",
       "      <td>0.0</td>\n",
       "    </tr>\n",
       "    <tr>\n",
       "      <th>...</th>\n",
       "      <td>...</td>\n",
       "      <td>...</td>\n",
       "    </tr>\n",
       "    <tr>\n",
       "      <th>ld_3312</th>\n",
       "      <td>0.000000e+00</td>\n",
       "      <td>0.0</td>\n",
       "    </tr>\n",
       "    <tr>\n",
       "      <th>ld_3313</th>\n",
       "      <td>0.000000e+00</td>\n",
       "      <td>0.0</td>\n",
       "    </tr>\n",
       "    <tr>\n",
       "      <th>ld_3322</th>\n",
       "      <td>9.456370e-18</td>\n",
       "      <td>0.0</td>\n",
       "    </tr>\n",
       "    <tr>\n",
       "      <th>ld_3323</th>\n",
       "      <td>0.000000e+00</td>\n",
       "      <td>0.0</td>\n",
       "    </tr>\n",
       "    <tr>\n",
       "      <th>ld_3333</th>\n",
       "      <td>9.456370e-18</td>\n",
       "      <td>0.0</td>\n",
       "    </tr>\n",
       "  </tbody>\n",
       "</table>\n",
       "<p>641 rows × 2 columns</p>\n",
       "</div>"
      ],
      "text/plain": [
       "<wilson.classes.Wilson at 0x7fde7c66db70>"
      ]
     },
     "execution_count": 4,
     "metadata": {},
     "output_type": "execute_result"
    }
   ],
   "source": [
    "wcdict = scotogenic.wc(mueta=mueta, MN1=MN1, MN2=MN2, MN3=MN3, HIGHSCALE=sminputs.HIGHSCALE, lam3=lam3, lam4=lam4, lam5=lam5, yN1=yN1, yN2=yN2, yN3=yN3)\n",
    "w = Wilson(wcdict, scale=sminputs.HIGHSCALE, eft='SMEFT', basis='Warsaw')\n",
    "w"
   ]
  },
  {
   "cell_type": "markdown",
   "metadata": {},
   "source": [
    "and calculate the observable:"
   ]
  },
  {
   "cell_type": "code",
   "execution_count": 5,
   "metadata": {},
   "outputs": [
    {
     "name": "stdout",
     "output_type": "stream",
     "text": [
      "BR(mu->egamma) = 2.995433519274676e-14 (SM inputs)\n"
     ]
    }
   ],
   "source": [
    "br1 = flavio.np_prediction('BR(mu->egamma)', w)\n",
    "print(f'BR(mu->egamma) = {br1} (SM inputs)')"
   ]
  },
  {
   "cell_type": "markdown",
   "metadata": {},
   "source": [
    "## Determining the SM Lagrangian parametrs in the SM\n",
    "\n",
    "Now that we have the SMEFT Wilson coefficients, we can use them to re-calculate the SM Lagrangian parameters:"
   ]
  },
  {
   "cell_type": "code",
   "execution_count": 6,
   "metadata": {},
   "outputs": [],
   "source": [
    "scotogenic.sminputs.calculate(wcdict)\n",
    "scotogenic.reloadsminputs()"
   ]
  },
  {
   "cell_type": "markdown",
   "metadata": {},
   "source": [
    "and re-calculate the observable"
   ]
  },
  {
   "cell_type": "code",
   "execution_count": 7,
   "metadata": {},
   "outputs": [
    {
     "name": "stdout",
     "output_type": "stream",
     "text": [
      "BR(mu->egamma) = 2.9954334876720835e-14 (SMEFT inputs)\n"
     ]
    }
   ],
   "source": [
    "wcdict = scotogenic.wc(mueta=mueta, MN1=MN1, MN2=MN2, MN3=MN3, HIGHSCALE=sminputs.HIGHSCALE, lam3=lam3, lam4=lam4, lam5=lam5, yN1=yN1, yN2=yN2, yN3=yN3)\n",
    "w = Wilson(wcdict, scale=sminputs.HIGHSCALE, eft='SMEFT', basis='Warsaw')\n",
    "br2 = flavio.np_prediction('BR(mu->egamma)', w)\n",
    "print(f'BR(mu->egamma) = {br2} (SMEFT inputs)')"
   ]
  },
  {
   "cell_type": "markdown",
   "metadata": {},
   "source": [
    "The impact of the recalculation is"
   ]
  },
  {
   "cell_type": "code",
   "execution_count": 8,
   "metadata": {},
   "outputs": [
    {
     "data": {
      "text/plain": [
       "-1.0550256858040386e-08"
      ]
     },
     "execution_count": 8,
     "metadata": {},
     "output_type": "execute_result"
    }
   ],
   "source": [
    "(br2-br1)/br2"
   ]
  },
  {
   "cell_type": "markdown",
   "metadata": {},
   "source": [
    "## Changing the NP parameters\n",
    "\n",
    "We will see how the prediction for $\\mathrm{BR}(\\mu\\to e\\gamma)$ changes as we modify $\\mu_\\eta$"
   ]
  },
  {
   "cell_type": "code",
   "execution_count": 22,
   "metadata": {},
   "outputs": [],
   "source": [
    "BRemugamma = []\n",
    "for mu in np.linspace(8, 20, 100):\n",
    "    wcdict = scotogenic.wc(mueta=mu*1000, MN1=MN1, MN2=MN2, MN3=MN3, HIGHSCALE=sminputs.HIGHSCALE, lam3=lam3, lam4=lam4, lam5=lam5, yN1=yN1, yN2=yN2, yN3=yN3)\n",
    "    w = Wilson(wcdict, scale=sminputs.HIGHSCALE, eft='SMEFT', basis='Warsaw')\n",
    "    BRemugamma.append(flavio.np_prediction('BR(mu->egamma)', w))"
   ]
  },
  {
   "cell_type": "code",
   "execution_count": 27,
   "metadata": {},
   "outputs": [
    {
     "data": {
      "image/png": "[encoded data removed]",
      "text/plain": [
       "<Figure size 720x432 with 1 Axes>"
      ]
     },
     "metadata": {
      "needs_background": "light"
     },
     "output_type": "display_data"
    }
   ],
   "source": [
    "plt.figure(figsize=(10,6))\n",
    "plt.plot(np.linspace(8, 20, 100), np.array(BRemugamma)*1e14, lw=1.5)\n",
    "plt.xticks(fontsize=16)\n",
    "plt.yticks(fontsize=16)\n",
    "plt.xlim([8,20])\n",
    "plt.ylim([0,6])\n",
    "plt.xlabel(r'$\\mu_\\eta$ [TeV]', fontsize=18)\n",
    "_ = plt.ylabel(r'$\\mathrm{BR}(\\mu\\to e\\gamma) \\times 10^{14}$', fontsize=18)"
   ]
  },
  {
   "cell_type": "code",
   "execution_count": null,
   "metadata": {},
   "outputs": [],
   "source": []
  }
 ],
 "metadata": {
  "kernelspec": {
   "display_name": "Python 3.10.5 ('usr')",
   "language": "python",
   "name": "python3"
  },
  "language_info": {
   "codemirror_mode": {
    "name": "ipython",
    "version": 3
   },
   "file_extension": ".py",
   "mimetype": "text/x-python",
   "name": "python",
   "nbconvert_exporter": "python",
   "pygments_lexer": "ipython3",
   "version": "3.10.5"
  },
  "orig_nbformat": 4,
  "vscode": {
   "interpreter": {
    "hash": "31f2aee4e71d21fbe5cf8b01ff0e069b9275f58929596ceb00d14d90e3e16cd6"
   }
  }
 },
 "nbformat": 4,
 "nbformat_minor": 2
}
